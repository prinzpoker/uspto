{
 "cells": [
  {
   "cell_type": "markdown",
   "metadata": {},
   "source": [
    "# Melero Approach\n",
    "\n",
    "The task to be solved with this Notebook is the replication of the \"Melero Approach\". First, all possible patent applications of researchers as inventors are researched. Therefore, assignees and assignors are filtered by university.\n",
    "\n",
    "The approach is based on 3 different data sets: PatEx, Patentsview & Patent Assignment.\n"
   ]
  },
  {
   "cell_type": "code",
   "execution_count": 1,
   "metadata": {},
   "outputs": [],
   "source": [
    "# Basic import\n",
    "import pandas as pd\n",
    "import csv\n",
    "import numpy as np\n",
    "import requests\n",
    "import os\n"
   ]
  },
  {
   "cell_type": "code",
   "execution_count": 2,
   "metadata": {},
   "outputs": [],
   "source": [
    "# Extend display\n",
    "pd.set_option(\"display.max_rows\", None, \"display.max_columns\", None)"
   ]
  },
  {
   "cell_type": "code",
   "execution_count": 3,
   "metadata": {},
   "outputs": [],
   "source": [
    "# Set the paths correctly\n",
    "cwd_path = os.getcwd()\n",
    "raw_data_path = os.path.join(cwd_path, \"raw_data\").replace(\"\\\\\",\"/\")\n"
   ]
  },
  {
   "cell_type": "code",
   "execution_count": 4,
   "metadata": {},
   "outputs": [
    {
     "data": {
      "text/plain": [
       "'C:/Users/Lucas/code/prinzpoker/notebooks/raw_data'"
      ]
     },
     "execution_count": 4,
     "metadata": {},
     "output_type": "execute_result"
    }
   ],
   "source": [
    "raw_data_path"
   ]
  },
  {
   "cell_type": "markdown",
   "metadata": {},
   "source": [
    "# Patent application number \n",
    "Only universities"
   ]
  },
  {
   "cell_type": "markdown",
   "metadata": {},
   "source": [
    "## PatEx - USPTO\n",
    "PatEx data are generally representative of the population of patent applications filed in the United States after November 2000 across observable characteristics.\n",
    "\n",
    "Different Data sets (we concentrate on three: application_data; all_inventors; status_codes)"
   ]
  },
  {
   "cell_type": "markdown",
   "metadata": {},
   "source": [
    "### application_data"
   ]
  },
  {
   "cell_type": "code",
   "execution_count": 5,
   "metadata": {},
   "outputs": [
    {
     "name": "stderr",
     "output_type": "stream",
     "text": [
      "c:\\users\\lucas\\appdata\\local\\programs\\python\\python38\\lib\\site-packages\\IPython\\core\\interactiveshell.py:3331: DtypeWarning: Columns (0,1,3,4,5,6,8,9,10,11,12,13,14,16,17,18,19,20,21) have mixed types.Specify dtype option on import or set low_memory=False.\n",
      "  exec(code_obj, self.user_global_ns, self.user_ns)\n"
     ]
    }
   ],
   "source": [
    "df_application = pd.DataFrame()\n",
    "df_application = pd.read_csv(os.path.join(raw_data_path,\"uspto/application_data.csv\").replace(\"\\\\\",\"/\"), delimiter = \",\")"
   ]
  },
  {
   "cell_type": "code",
   "execution_count": 6,
   "metadata": {
    "scrolled": false
   },
   "outputs": [
    {
     "data": {
      "text/html": [
       "<div>\n",
       "<style scoped>\n",
       "    .dataframe tbody tr th:only-of-type {\n",
       "        vertical-align: middle;\n",
       "    }\n",
       "\n",
       "    .dataframe tbody tr th {\n",
       "        vertical-align: top;\n",
       "    }\n",
       "\n",
       "    .dataframe thead th {\n",
       "        text-align: right;\n",
       "    }\n",
       "</style>\n",
       "<table border=\"1\" class=\"dataframe\">\n",
       "  <thead>\n",
       "    <tr style=\"text-align: right;\">\n",
       "      <th></th>\n",
       "      <th>application_number</th>\n",
       "      <th>filing_date</th>\n",
       "      <th>application_invention_type</th>\n",
       "      <th>examiner_full_name</th>\n",
       "      <th>examiner_art_unit</th>\n",
       "      <th>uspc_class</th>\n",
       "      <th>uspc_subclass</th>\n",
       "      <th>confirm_number</th>\n",
       "      <th>atty_docket_number</th>\n",
       "      <th>appl_status_desc</th>\n",
       "      <th>appl_status_date</th>\n",
       "      <th>file_location</th>\n",
       "      <th>file_location_date</th>\n",
       "      <th>earliest_pgpub_number</th>\n",
       "      <th>earliest_pgpub_date</th>\n",
       "      <th>wipo_pub_number</th>\n",
       "      <th>wipo_pub_date</th>\n",
       "      <th>patent_number</th>\n",
       "      <th>patent_issue_date</th>\n",
       "      <th>invention_title</th>\n",
       "      <th>small_entity_indicator</th>\n",
       "      <th>aia_first_to_file</th>\n",
       "    </tr>\n",
       "  </thead>\n",
       "  <tbody>\n",
       "    <tr>\n",
       "      <th>0</th>\n",
       "      <td>04453098</td>\n",
       "      <td>NaN</td>\n",
       "      <td>NaN</td>\n",
       "      <td>LATEEF, MARVIN M</td>\n",
       "      <td>2106</td>\n",
       "      <td>338</td>\n",
       "      <td>254000</td>\n",
       "      <td>6933.0</td>\n",
       "      <td>NaN</td>\n",
       "      <td>Patented File - (Old Case Added for File Track...</td>\n",
       "      <td>1983-12-28</td>\n",
       "      <td>FILE REPOSITORY (FRANCONIA)</td>\n",
       "      <td>1986-04-23</td>\n",
       "      <td>NaN</td>\n",
       "      <td>NaN</td>\n",
       "      <td>NaN</td>\n",
       "      <td>NaN</td>\n",
       "      <td>NaN</td>\n",
       "      <td>NaN</td>\n",
       "      <td>NaN</td>\n",
       "      <td>UNDISCOUNTED</td>\n",
       "      <td>NaN</td>\n",
       "    </tr>\n",
       "    <tr>\n",
       "      <th>1</th>\n",
       "      <td>04544040</td>\n",
       "      <td>NaN</td>\n",
       "      <td>NaN</td>\n",
       "      <td>GLUCK, RICHARD E</td>\n",
       "      <td>3403</td>\n",
       "      <td>417</td>\n",
       "      <td>353000</td>\n",
       "      <td>9431.0</td>\n",
       "      <td>NaN</td>\n",
       "      <td>Patented File - (Old Case Added for File Track...</td>\n",
       "      <td>1983-08-22</td>\n",
       "      <td>FILE REPOSITORY (FRANCONIA)</td>\n",
       "      <td>1999-06-10</td>\n",
       "      <td>NaN</td>\n",
       "      <td>NaN</td>\n",
       "      <td>NaN</td>\n",
       "      <td>NaN</td>\n",
       "      <td>NaN</td>\n",
       "      <td>NaN</td>\n",
       "      <td>NaN</td>\n",
       "      <td>UNDISCOUNTED</td>\n",
       "      <td>NaN</td>\n",
       "    </tr>\n",
       "    <tr>\n",
       "      <th>2</th>\n",
       "      <td>04577552</td>\n",
       "      <td>NaN</td>\n",
       "      <td>NaN</td>\n",
       "      <td>LOOK, EDWARD K</td>\n",
       "      <td>3401</td>\n",
       "      <td>060</td>\n",
       "      <td>053000</td>\n",
       "      <td>1435.0</td>\n",
       "      <td>NaN</td>\n",
       "      <td>Patented File - (Old Case Added for File Track...</td>\n",
       "      <td>1984-02-21</td>\n",
       "      <td>FILE REPOSITORY (FRANCONIA)</td>\n",
       "      <td>2008-01-07</td>\n",
       "      <td>NaN</td>\n",
       "      <td>NaN</td>\n",
       "      <td>NaN</td>\n",
       "      <td>NaN</td>\n",
       "      <td>NaN</td>\n",
       "      <td>NaN</td>\n",
       "      <td>NaN</td>\n",
       "      <td>UNDISCOUNTED</td>\n",
       "      <td>NaN</td>\n",
       "    </tr>\n",
       "    <tr>\n",
       "      <th>3</th>\n",
       "      <td>04578318</td>\n",
       "      <td>NaN</td>\n",
       "      <td>NaN</td>\n",
       "      <td>HOWELL, DANIEL W</td>\n",
       "      <td>3722</td>\n",
       "      <td>409</td>\n",
       "      <td>163000</td>\n",
       "      <td>1455.0</td>\n",
       "      <td>NaN</td>\n",
       "      <td>ABANDONED - RESTORED</td>\n",
       "      <td>1988-01-28</td>\n",
       "      <td>FILE REPOSITORY (FRANCONIA)</td>\n",
       "      <td>2016-11-21</td>\n",
       "      <td>NaN</td>\n",
       "      <td>NaN</td>\n",
       "      <td>NaN</td>\n",
       "      <td>NaN</td>\n",
       "      <td>NaN</td>\n",
       "      <td>NaN</td>\n",
       "      <td>NaN</td>\n",
       "      <td>UNDISCOUNTED</td>\n",
       "      <td>NaN</td>\n",
       "    </tr>\n",
       "    <tr>\n",
       "      <th>4</th>\n",
       "      <td>04589018</td>\n",
       "      <td>NaN</td>\n",
       "      <td>Utility</td>\n",
       "      <td>NOT, DEFINED</td>\n",
       "      <td>2401</td>\n",
       "      <td>220</td>\n",
       "      <td>271000</td>\n",
       "      <td>1808.0</td>\n",
       "      <td>NaN</td>\n",
       "      <td>Patented Case</td>\n",
       "      <td>1980-01-15</td>\n",
       "      <td>FILE REPOSITORY (FRANCONIA)</td>\n",
       "      <td>1995-09-06</td>\n",
       "      <td>NaN</td>\n",
       "      <td>NaN</td>\n",
       "      <td>NaN</td>\n",
       "      <td>NaN</td>\n",
       "      <td>4183442</td>\n",
       "      <td>1980-01-15</td>\n",
       "      <td>NaN</td>\n",
       "      <td>UNDISCOUNTED</td>\n",
       "      <td>NaN</td>\n",
       "    </tr>\n",
       "  </tbody>\n",
       "</table>\n",
       "</div>"
      ],
      "text/plain": [
       "  application_number filing_date application_invention_type  \\\n",
       "0           04453098         NaN                        NaN   \n",
       "1           04544040         NaN                        NaN   \n",
       "2           04577552         NaN                        NaN   \n",
       "3           04578318         NaN                        NaN   \n",
       "4           04589018         NaN                    Utility   \n",
       "\n",
       "  examiner_full_name examiner_art_unit uspc_class uspc_subclass  \\\n",
       "0   LATEEF, MARVIN M              2106        338        254000   \n",
       "1   GLUCK, RICHARD E              3403        417        353000   \n",
       "2     LOOK, EDWARD K              3401        060        053000   \n",
       "3   HOWELL, DANIEL W              3722        409        163000   \n",
       "4       NOT, DEFINED              2401        220        271000   \n",
       "\n",
       "   confirm_number atty_docket_number  \\\n",
       "0          6933.0                NaN   \n",
       "1          9431.0                NaN   \n",
       "2          1435.0                NaN   \n",
       "3          1455.0                NaN   \n",
       "4          1808.0                NaN   \n",
       "\n",
       "                                    appl_status_desc appl_status_date  \\\n",
       "0  Patented File - (Old Case Added for File Track...       1983-12-28   \n",
       "1  Patented File - (Old Case Added for File Track...       1983-08-22   \n",
       "2  Patented File - (Old Case Added for File Track...       1984-02-21   \n",
       "3                               ABANDONED - RESTORED       1988-01-28   \n",
       "4                                      Patented Case       1980-01-15   \n",
       "\n",
       "                 file_location file_location_date earliest_pgpub_number  \\\n",
       "0  FILE REPOSITORY (FRANCONIA)         1986-04-23                   NaN   \n",
       "1  FILE REPOSITORY (FRANCONIA)         1999-06-10                   NaN   \n",
       "2  FILE REPOSITORY (FRANCONIA)         2008-01-07                   NaN   \n",
       "3  FILE REPOSITORY (FRANCONIA)         2016-11-21                   NaN   \n",
       "4  FILE REPOSITORY (FRANCONIA)         1995-09-06                   NaN   \n",
       "\n",
       "  earliest_pgpub_date  wipo_pub_number wipo_pub_date patent_number  \\\n",
       "0                 NaN              NaN           NaN           NaN   \n",
       "1                 NaN              NaN           NaN           NaN   \n",
       "2                 NaN              NaN           NaN           NaN   \n",
       "3                 NaN              NaN           NaN           NaN   \n",
       "4                 NaN              NaN           NaN       4183442   \n",
       "\n",
       "  patent_issue_date invention_title small_entity_indicator aia_first_to_file  \n",
       "0               NaN             NaN           UNDISCOUNTED               NaN  \n",
       "1               NaN             NaN           UNDISCOUNTED               NaN  \n",
       "2               NaN             NaN           UNDISCOUNTED               NaN  \n",
       "3               NaN             NaN           UNDISCOUNTED               NaN  \n",
       "4        1980-01-15             NaN           UNDISCOUNTED               NaN  "
      ]
     },
     "execution_count": 6,
     "metadata": {},
     "output_type": "execute_result"
    }
   ],
   "source": [
    "df_application.head()"
   ]
  },
  {
   "cell_type": "code",
   "execution_count": 6,
   "metadata": {
    "scrolled": true
   },
   "outputs": [
    {
     "data": {
      "text/plain": [
       "(16514638, 22)"
      ]
     },
     "execution_count": 6,
     "metadata": {},
     "output_type": "execute_result"
    }
   ],
   "source": [
    "df_application.shape"
   ]
  },
  {
   "cell_type": "markdown",
   "metadata": {},
   "source": [
    "'>16 Mio. -> Reducing data: appl_status_date: 2000-01-01 bis 2016-01-01\n",
    " & only type \"Utility\" (see Melero)\n"
   ]
  },
  {
   "cell_type": "code",
   "execution_count": 7,
   "metadata": {},
   "outputs": [],
   "source": [
    "df2_application = pd.DataFrame()\n",
    "df2_application = df_application.loc[(df_application[\"filing_date\"] > '2000-12-31') & (df_application[\"filing_date\"] <= '2015-12-31'),:]\n",
    "df2_application = df2_application.loc[df2_application[\"application_invention_type\"]==\"Utility\",:]\n",
    "df2_application[\"application_number\"] = df2_application[\"application_number\"].astype(\"string\")"
   ]
  },
  {
   "cell_type": "code",
   "execution_count": 8,
   "metadata": {
    "scrolled": true
   },
   "outputs": [
    {
     "data": {
      "text/plain": [
       "(4938053, 22)"
      ]
     },
     "execution_count": 8,
     "metadata": {},
     "output_type": "execute_result"
    }
   ],
   "source": [
    "df2_application.shape"
   ]
  },
  {
   "cell_type": "markdown",
   "metadata": {},
   "source": [
    "Which columns are useless? -> \"invention_title\"; \"small_entity_indicator\" ; \"wipo_pub_date\"; \"wipo_pub_number\" "
   ]
  },
  {
   "cell_type": "code",
   "execution_count": 9,
   "metadata": {},
   "outputs": [],
   "source": [
    "df2_application.drop(columns = {\"invention_title\", \"small_entity_indicator\", \"wipo_pub_date\", \"wipo_pub_number\"}, inplace = True)"
   ]
  },
  {
   "cell_type": "markdown",
   "metadata": {},
   "source": [
    "## Patentsview\n",
    "First data set that includes information about assignees\n"
   ]
  },
  {
   "cell_type": "markdown",
   "metadata": {},
   "source": [
    "### application \n",
    "preGrant-Application"
   ]
  },
  {
   "cell_type": "code",
   "execution_count": 10,
   "metadata": {
    "scrolled": true
   },
   "outputs": [],
   "source": [
    "df3_application = pd.DataFrame()\n",
    "df3_application = pd.read_csv(os.path.join(raw_data_path,\"patentsview/application.tsv\").replace(\"\\\\\",\"/\"), delimiter = \"\\t\")"
   ]
  },
  {
   "cell_type": "code",
   "execution_count": 11,
   "metadata": {
    "scrolled": true
   },
   "outputs": [
    {
     "data": {
      "text/html": [
       "<div>\n",
       "<style scoped>\n",
       "    .dataframe tbody tr th:only-of-type {\n",
       "        vertical-align: middle;\n",
       "    }\n",
       "\n",
       "    .dataframe tbody tr th {\n",
       "        vertical-align: top;\n",
       "    }\n",
       "\n",
       "    .dataframe thead th {\n",
       "        text-align: right;\n",
       "    }\n",
       "</style>\n",
       "<table border=\"1\" class=\"dataframe\">\n",
       "  <thead>\n",
       "    <tr style=\"text-align: right;\">\n",
       "      <th></th>\n",
       "      <th>id</th>\n",
       "      <th>document_number</th>\n",
       "      <th>type</th>\n",
       "      <th>application_number</th>\n",
       "      <th>date</th>\n",
       "      <th>country</th>\n",
       "      <th>series_code</th>\n",
       "      <th>invention_title</th>\n",
       "      <th>invention_abstract</th>\n",
       "      <th>rule_47_flag</th>\n",
       "      <th>filename</th>\n",
       "    </tr>\n",
       "  </thead>\n",
       "  <tbody>\n",
       "    <tr>\n",
       "      <th>0</th>\n",
       "      <td>0000021c-ccf9-11ea-ba95-121df0c29c1e</td>\n",
       "      <td>20100070354</td>\n",
       "      <td>utility</td>\n",
       "      <td>12412361</td>\n",
       "      <td>2009-03-27</td>\n",
       "      <td>US</td>\n",
       "      <td>12</td>\n",
       "      <td>SYSTEM AND METHOD FOR A MERCHANT DEBIT CARD PR...</td>\n",
       "      <td>A merchant debit card program is described tha...</td>\n",
       "      <td>False</td>\n",
       "      <td>ipa100318.xml</td>\n",
       "    </tr>\n",
       "    <tr>\n",
       "      <th>1</th>\n",
       "      <td>00001b62-f3c4-11eb-b0cf-121df0c29c1e</td>\n",
       "      <td>20210172812</td>\n",
       "      <td>utility</td>\n",
       "      <td>16623118</td>\n",
       "      <td>2018-04-20</td>\n",
       "      <td>US</td>\n",
       "      <td>16</td>\n",
       "      <td>ENERGY CONVERTER, VIBRATION POWER GENERATOR, F...</td>\n",
       "      <td>An energy converter is formed by bonding a sol...</td>\n",
       "      <td>False</td>\n",
       "      <td>NaN</td>\n",
       "    </tr>\n",
       "    <tr>\n",
       "      <th>2</th>\n",
       "      <td>00004fba-ccf9-11ea-ba95-121df0c29c1e</td>\n",
       "      <td>20100070355</td>\n",
       "      <td>utility</td>\n",
       "      <td>12623189</td>\n",
       "      <td>2009-11-20</td>\n",
       "      <td>US</td>\n",
       "      <td>12</td>\n",
       "      <td>Methods for Transmitting Multimedia Files and ...</td>\n",
       "      <td>The invention is directed to a method of trans...</td>\n",
       "      <td>False</td>\n",
       "      <td>ipa100318.xml</td>\n",
       "    </tr>\n",
       "    <tr>\n",
       "      <th>3</th>\n",
       "      <td>0000525a-ccf9-11ea-ba95-121df0c29c1e</td>\n",
       "      <td>20100070356</td>\n",
       "      <td>utility</td>\n",
       "      <td>12516762</td>\n",
       "      <td>2007-09-19</td>\n",
       "      <td>US</td>\n",
       "      <td>12</td>\n",
       "      <td>METHOD AND SYSTEM OF SALES PROMOTION</td>\n",
       "      <td>A method of sales promotion using a networked ...</td>\n",
       "      <td>False</td>\n",
       "      <td>ipa100318.xml</td>\n",
       "    </tr>\n",
       "    <tr>\n",
       "      <th>4</th>\n",
       "      <td>00007a2d-ccf9-11ea-ba95-121df0c29c1e</td>\n",
       "      <td>20100070357</td>\n",
       "      <td>utility</td>\n",
       "      <td>12334277</td>\n",
       "      <td>2008-12-12</td>\n",
       "      <td>US</td>\n",
       "      <td>12</td>\n",
       "      <td>INCENTIVE BASED MARKETING THROUGH SOCIAL NETWORKS</td>\n",
       "      <td>A method and system for providing an incentive...</td>\n",
       "      <td>False</td>\n",
       "      <td>ipa100318.xml</td>\n",
       "    </tr>\n",
       "  </tbody>\n",
       "</table>\n",
       "</div>"
      ],
      "text/plain": [
       "                                     id  document_number     type  \\\n",
       "0  0000021c-ccf9-11ea-ba95-121df0c29c1e      20100070354  utility   \n",
       "1  00001b62-f3c4-11eb-b0cf-121df0c29c1e      20210172812  utility   \n",
       "2  00004fba-ccf9-11ea-ba95-121df0c29c1e      20100070355  utility   \n",
       "3  0000525a-ccf9-11ea-ba95-121df0c29c1e      20100070356  utility   \n",
       "4  00007a2d-ccf9-11ea-ba95-121df0c29c1e      20100070357  utility   \n",
       "\n",
       "   application_number        date country  series_code  \\\n",
       "0            12412361  2009-03-27      US           12   \n",
       "1            16623118  2018-04-20      US           16   \n",
       "2            12623189  2009-11-20      US           12   \n",
       "3            12516762  2007-09-19      US           12   \n",
       "4            12334277  2008-12-12      US           12   \n",
       "\n",
       "                                     invention_title  \\\n",
       "0  SYSTEM AND METHOD FOR A MERCHANT DEBIT CARD PR...   \n",
       "1  ENERGY CONVERTER, VIBRATION POWER GENERATOR, F...   \n",
       "2  Methods for Transmitting Multimedia Files and ...   \n",
       "3               METHOD AND SYSTEM OF SALES PROMOTION   \n",
       "4  INCENTIVE BASED MARKETING THROUGH SOCIAL NETWORKS   \n",
       "\n",
       "                                  invention_abstract  rule_47_flag  \\\n",
       "0  A merchant debit card program is described tha...         False   \n",
       "1  An energy converter is formed by bonding a sol...         False   \n",
       "2  The invention is directed to a method of trans...         False   \n",
       "3  A method of sales promotion using a networked ...         False   \n",
       "4  A method and system for providing an incentive...         False   \n",
       "\n",
       "        filename  \n",
       "0  ipa100318.xml  \n",
       "1            NaN  \n",
       "2  ipa100318.xml  \n",
       "3  ipa100318.xml  \n",
       "4  ipa100318.xml  "
      ]
     },
     "execution_count": 11,
     "metadata": {},
     "output_type": "execute_result"
    }
   ],
   "source": [
    "df3_application.head()"
   ]
  },
  {
   "cell_type": "code",
   "execution_count": 12,
   "metadata": {},
   "outputs": [],
   "source": [
    "df3_application[\"application_number\"] = df3_application[\"application_number\"].astype(\"string\")\n"
   ]
  },
  {
   "cell_type": "markdown",
   "metadata": {},
   "source": [
    "### assignee & publication_assignee"
   ]
  },
  {
   "cell_type": "code",
   "execution_count": 13,
   "metadata": {
    "scrolled": true
   },
   "outputs": [],
   "source": [
    "df_assignee = pd.DataFrame()\n",
    "df_assignee = pd.read_csv(os.path.join(raw_data_path,\"patentsview/assignee.tsv\").replace(\"\\\\\",\"/\"),delimiter=\"\\t\") "
   ]
  },
  {
   "cell_type": "code",
   "execution_count": 14,
   "metadata": {
    "scrolled": true
   },
   "outputs": [
    {
     "data": {
      "text/html": [
       "<div>\n",
       "<style scoped>\n",
       "    .dataframe tbody tr th:only-of-type {\n",
       "        vertical-align: middle;\n",
       "    }\n",
       "\n",
       "    .dataframe tbody tr th {\n",
       "        vertical-align: top;\n",
       "    }\n",
       "\n",
       "    .dataframe thead th {\n",
       "        text-align: right;\n",
       "    }\n",
       "</style>\n",
       "<table border=\"1\" class=\"dataframe\">\n",
       "  <thead>\n",
       "    <tr style=\"text-align: right;\">\n",
       "      <th></th>\n",
       "      <th>id</th>\n",
       "      <th>type</th>\n",
       "      <th>name_first</th>\n",
       "      <th>name_last</th>\n",
       "      <th>organization</th>\n",
       "    </tr>\n",
       "  </thead>\n",
       "  <tbody>\n",
       "    <tr>\n",
       "      <th>0</th>\n",
       "      <td>00002ded-cef9-4c06-ad0c-0fee8891a8ed</td>\n",
       "      <td>2.0</td>\n",
       "      <td>NaN</td>\n",
       "      <td>NaN</td>\n",
       "      <td>Butterick Company, Inc.</td>\n",
       "    </tr>\n",
       "    <tr>\n",
       "      <th>1</th>\n",
       "      <td>00002ed6-a81c-4adf-afa3-e91961107dca</td>\n",
       "      <td>3.0</td>\n",
       "      <td>NaN</td>\n",
       "      <td>NaN</td>\n",
       "      <td>Conros Corporation</td>\n",
       "    </tr>\n",
       "    <tr>\n",
       "      <th>2</th>\n",
       "      <td>000055d3-0d65-4d07-8d0a-8939b578b0e1</td>\n",
       "      <td>3.0</td>\n",
       "      <td>NaN</td>\n",
       "      <td>NaN</td>\n",
       "      <td>Chungbuk National University</td>\n",
       "    </tr>\n",
       "    <tr>\n",
       "      <th>3</th>\n",
       "      <td>0000591f-7548-49ee-a4ae-fca3b0c10b1c</td>\n",
       "      <td>3.0</td>\n",
       "      <td>NaN</td>\n",
       "      <td>NaN</td>\n",
       "      <td>TELEVIC CONFERENCE NV</td>\n",
       "    </tr>\n",
       "    <tr>\n",
       "      <th>4</th>\n",
       "      <td>00007585-cd5c-46d6-96ea-09042748a550</td>\n",
       "      <td>3.0</td>\n",
       "      <td>NaN</td>\n",
       "      <td>NaN</td>\n",
       "      <td>ACES INGENIEURGESELLSCHAFT MBH</td>\n",
       "    </tr>\n",
       "  </tbody>\n",
       "</table>\n",
       "</div>"
      ],
      "text/plain": [
       "                                     id  type name_first name_last  \\\n",
       "0  00002ded-cef9-4c06-ad0c-0fee8891a8ed   2.0        NaN       NaN   \n",
       "1  00002ed6-a81c-4adf-afa3-e91961107dca   3.0        NaN       NaN   \n",
       "2  000055d3-0d65-4d07-8d0a-8939b578b0e1   3.0        NaN       NaN   \n",
       "3  0000591f-7548-49ee-a4ae-fca3b0c10b1c   3.0        NaN       NaN   \n",
       "4  00007585-cd5c-46d6-96ea-09042748a550   3.0        NaN       NaN   \n",
       "\n",
       "                     organization  \n",
       "0         Butterick Company, Inc.  \n",
       "1              Conros Corporation  \n",
       "2    Chungbuk National University  \n",
       "3           TELEVIC CONFERENCE NV  \n",
       "4  ACES INGENIEURGESELLSCHAFT MBH  "
      ]
     },
     "execution_count": 14,
     "metadata": {},
     "output_type": "execute_result"
    }
   ],
   "source": [
    "df_assignee.head()"
   ]
  },
  {
   "cell_type": "markdown",
   "metadata": {},
   "source": [
    "Reduce assignees -> Only University"
   ]
  },
  {
   "cell_type": "code",
   "execution_count": 15,
   "metadata": {},
   "outputs": [],
   "source": [
    "df2_assignee = pd.DataFrame()\n",
    "df2_assignee = df_assignee.loc[(df_assignee[\"organization\"].str.contains(\"University\") ==True) |(df_assignee[\"organization\"].str.contains(\"UNIVERSITY\") ==True)|(df_assignee[\"organization\"].str.contains(\"Faculty\") ==True) | (df_assignee[\"name_first\"].str.contains(\"FACULTY\")==True) | (df_assignee[\"name_first\"].str.contains(\"INSTITUTE\")==True) | (df_assignee[\"name_last\"].str.contains(\"Institute\")==True),:]"
   ]
  },
  {
   "cell_type": "code",
   "execution_count": 16,
   "metadata": {
    "scrolled": false
   },
   "outputs": [
    {
     "data": {
      "text/html": [
       "<div>\n",
       "<style scoped>\n",
       "    .dataframe tbody tr th:only-of-type {\n",
       "        vertical-align: middle;\n",
       "    }\n",
       "\n",
       "    .dataframe tbody tr th {\n",
       "        vertical-align: top;\n",
       "    }\n",
       "\n",
       "    .dataframe thead th {\n",
       "        text-align: right;\n",
       "    }\n",
       "</style>\n",
       "<table border=\"1\" class=\"dataframe\">\n",
       "  <thead>\n",
       "    <tr style=\"text-align: right;\">\n",
       "      <th></th>\n",
       "      <th>id</th>\n",
       "      <th>type</th>\n",
       "      <th>name_first</th>\n",
       "      <th>name_last</th>\n",
       "      <th>organization</th>\n",
       "    </tr>\n",
       "  </thead>\n",
       "  <tbody>\n",
       "    <tr>\n",
       "      <th>2</th>\n",
       "      <td>000055d3-0d65-4d07-8d0a-8939b578b0e1</td>\n",
       "      <td>3.0</td>\n",
       "      <td>NaN</td>\n",
       "      <td>NaN</td>\n",
       "      <td>Chungbuk National University</td>\n",
       "    </tr>\n",
       "    <tr>\n",
       "      <th>109</th>\n",
       "      <td>000f1730-c563-4dcf-b14e-257093c523fb</td>\n",
       "      <td>NaN</td>\n",
       "      <td>NaN</td>\n",
       "      <td>NaN</td>\n",
       "      <td>The Ohiio State University Research Foundation</td>\n",
       "    </tr>\n",
       "    <tr>\n",
       "      <th>221</th>\n",
       "      <td>001b46be-be17-429c-9ed9-5e07acc0e2ad</td>\n",
       "      <td>3.0</td>\n",
       "      <td>NaN</td>\n",
       "      <td>NaN</td>\n",
       "      <td>ZHONGKAI UNIVERSITY OF AGRICULTURE AND ENGINEER</td>\n",
       "    </tr>\n",
       "    <tr>\n",
       "      <th>263</th>\n",
       "      <td>0020f5ec-7144-4a26-949b-f89e1b86872e</td>\n",
       "      <td>2.0</td>\n",
       "      <td>NaN</td>\n",
       "      <td>NaN</td>\n",
       "      <td>University of Tennesseee Research Foundation</td>\n",
       "    </tr>\n",
       "    <tr>\n",
       "      <th>288</th>\n",
       "      <td>0023bcd6-ffbc-4423-9507-32b97f9d88c1</td>\n",
       "      <td>3.0</td>\n",
       "      <td>NaN</td>\n",
       "      <td>NaN</td>\n",
       "      <td>University of Shanghai for Science and Technology</td>\n",
       "    </tr>\n",
       "  </tbody>\n",
       "</table>\n",
       "</div>"
      ],
      "text/plain": [
       "                                       id  type name_first name_last  \\\n",
       "2    000055d3-0d65-4d07-8d0a-8939b578b0e1   3.0        NaN       NaN   \n",
       "109  000f1730-c563-4dcf-b14e-257093c523fb   NaN        NaN       NaN   \n",
       "221  001b46be-be17-429c-9ed9-5e07acc0e2ad   3.0        NaN       NaN   \n",
       "263  0020f5ec-7144-4a26-949b-f89e1b86872e   2.0        NaN       NaN   \n",
       "288  0023bcd6-ffbc-4423-9507-32b97f9d88c1   3.0        NaN       NaN   \n",
       "\n",
       "                                          organization  \n",
       "2                         Chungbuk National University  \n",
       "109     The Ohiio State University Research Foundation  \n",
       "221    ZHONGKAI UNIVERSITY OF AGRICULTURE AND ENGINEER  \n",
       "263       University of Tennesseee Research Foundation  \n",
       "288  University of Shanghai for Science and Technology  "
      ]
     },
     "execution_count": 16,
     "metadata": {},
     "output_type": "execute_result"
    }
   ],
   "source": [
    "df2_assignee.head()"
   ]
  },
  {
   "cell_type": "code",
   "execution_count": 17,
   "metadata": {},
   "outputs": [
    {
     "data": {
      "text/plain": [
       "(4825, 5)"
      ]
     },
     "execution_count": 17,
     "metadata": {},
     "output_type": "execute_result"
    }
   ],
   "source": [
    "df2_assignee.shape"
   ]
  },
  {
   "cell_type": "code",
   "execution_count": 19,
   "metadata": {
    "scrolled": true
   },
   "outputs": [
    {
     "name": "stderr",
     "output_type": "stream",
     "text": [
      "c:\\users\\lucas\\appdata\\local\\programs\\python\\python38\\lib\\site-packages\\IPython\\core\\interactiveshell.py:3331: DtypeWarning: Columns (3) have mixed types.Specify dtype option on import or set low_memory=False.\n",
      "  exec(code_obj, self.user_global_ns, self.user_ns)\n"
     ]
    }
   ],
   "source": [
    "df_publication_assignee = pd.DataFrame()\n",
    "df_publication_assignee = pd.read_csv(os.path.join(raw_data_path,\"patentsview/publication_assignee.tsv\").replace(\"\\\\\",\"/\"), delimiter=\"\\t\")"
   ]
  },
  {
   "cell_type": "code",
   "execution_count": 20,
   "metadata": {
    "scrolled": true
   },
   "outputs": [
    {
     "data": {
      "text/html": [
       "<div>\n",
       "<style scoped>\n",
       "    .dataframe tbody tr th:only-of-type {\n",
       "        vertical-align: middle;\n",
       "    }\n",
       "\n",
       "    .dataframe tbody tr th {\n",
       "        vertical-align: top;\n",
       "    }\n",
       "\n",
       "    .dataframe thead th {\n",
       "        text-align: right;\n",
       "    }\n",
       "</style>\n",
       "<table border=\"1\" class=\"dataframe\">\n",
       "  <thead>\n",
       "    <tr style=\"text-align: right;\">\n",
       "      <th></th>\n",
       "      <th>document_number</th>\n",
       "      <th>assignee_id</th>\n",
       "      <th>sequence</th>\n",
       "      <th>location_id</th>\n",
       "    </tr>\n",
       "  </thead>\n",
       "  <tbody>\n",
       "    <tr>\n",
       "      <th>0</th>\n",
       "      <td>20050000014</td>\n",
       "      <td>2da62f97-01de-4da0-a945-87f4ebf0dd6a</td>\n",
       "      <td>1</td>\n",
       "      <td>f54d6149-cb8e-11eb-9615-121df0c29c1e</td>\n",
       "    </tr>\n",
       "    <tr>\n",
       "      <th>1</th>\n",
       "      <td>20050000023</td>\n",
       "      <td>03aa96b7-46eb-4f8e-b90e-906cdbcc08bb</td>\n",
       "      <td>1</td>\n",
       "      <td>cfe77bc3-cb8e-11eb-9615-121df0c29c1e</td>\n",
       "    </tr>\n",
       "    <tr>\n",
       "      <th>2</th>\n",
       "      <td>20050000025</td>\n",
       "      <td>0982f119-65f7-4662-802f-74f5d28d6082</td>\n",
       "      <td>1</td>\n",
       "      <td>d6338035-cb8e-11eb-9615-121df0c29c1e</td>\n",
       "    </tr>\n",
       "    <tr>\n",
       "      <th>3</th>\n",
       "      <td>20050000029</td>\n",
       "      <td>a9777969-6389-4729-9045-949ce0b2006b</td>\n",
       "      <td>1</td>\n",
       "      <td>3cb80671-cb8e-11eb-9615-121df0c29c1e</td>\n",
       "    </tr>\n",
       "    <tr>\n",
       "      <th>4</th>\n",
       "      <td>20050000031</td>\n",
       "      <td>a9777969-6389-4729-9045-949ce0b2006b</td>\n",
       "      <td>1</td>\n",
       "      <td>3cb80671-cb8e-11eb-9615-121df0c29c1e</td>\n",
       "    </tr>\n",
       "  </tbody>\n",
       "</table>\n",
       "</div>"
      ],
      "text/plain": [
       "   document_number                           assignee_id  sequence  \\\n",
       "0      20050000014  2da62f97-01de-4da0-a945-87f4ebf0dd6a         1   \n",
       "1      20050000023  03aa96b7-46eb-4f8e-b90e-906cdbcc08bb         1   \n",
       "2      20050000025  0982f119-65f7-4662-802f-74f5d28d6082         1   \n",
       "3      20050000029  a9777969-6389-4729-9045-949ce0b2006b         1   \n",
       "4      20050000031  a9777969-6389-4729-9045-949ce0b2006b         1   \n",
       "\n",
       "                            location_id  \n",
       "0  f54d6149-cb8e-11eb-9615-121df0c29c1e  \n",
       "1  cfe77bc3-cb8e-11eb-9615-121df0c29c1e  \n",
       "2  d6338035-cb8e-11eb-9615-121df0c29c1e  \n",
       "3  3cb80671-cb8e-11eb-9615-121df0c29c1e  \n",
       "4  3cb80671-cb8e-11eb-9615-121df0c29c1e  "
      ]
     },
     "execution_count": 20,
     "metadata": {},
     "output_type": "execute_result"
    }
   ],
   "source": [
    "df_publication_assignee.head()"
   ]
  },
  {
   "cell_type": "markdown",
   "metadata": {},
   "source": [
    "### Merge Patentsview\n",
    "with assignee=ONLY UNIVERSITY"
   ]
  },
  {
   "cell_type": "code",
   "execution_count": 21,
   "metadata": {
    "scrolled": true
   },
   "outputs": [],
   "source": [
    "df_patentsview = pd.DataFrame()\n",
    "df_patentsview = pd.merge(df3_application, df_publication_assignee, left_on =\"document_number\",right_on = \"document_number\")"
   ]
  },
  {
   "cell_type": "code",
   "execution_count": 22,
   "metadata": {
    "scrolled": false
   },
   "outputs": [
    {
     "data": {
      "text/html": [
       "<div>\n",
       "<style scoped>\n",
       "    .dataframe tbody tr th:only-of-type {\n",
       "        vertical-align: middle;\n",
       "    }\n",
       "\n",
       "    .dataframe tbody tr th {\n",
       "        vertical-align: top;\n",
       "    }\n",
       "\n",
       "    .dataframe thead th {\n",
       "        text-align: right;\n",
       "    }\n",
       "</style>\n",
       "<table border=\"1\" class=\"dataframe\">\n",
       "  <thead>\n",
       "    <tr style=\"text-align: right;\">\n",
       "      <th></th>\n",
       "      <th>id</th>\n",
       "      <th>document_number</th>\n",
       "      <th>type</th>\n",
       "      <th>application_number</th>\n",
       "      <th>date</th>\n",
       "      <th>country</th>\n",
       "      <th>series_code</th>\n",
       "      <th>invention_title</th>\n",
       "      <th>invention_abstract</th>\n",
       "      <th>rule_47_flag</th>\n",
       "      <th>filename</th>\n",
       "      <th>assignee_id</th>\n",
       "      <th>sequence</th>\n",
       "      <th>location_id</th>\n",
       "    </tr>\n",
       "  </thead>\n",
       "  <tbody>\n",
       "    <tr>\n",
       "      <th>0</th>\n",
       "      <td>0000021c-ccf9-11ea-ba95-121df0c29c1e</td>\n",
       "      <td>20100070354</td>\n",
       "      <td>utility</td>\n",
       "      <td>12412361</td>\n",
       "      <td>2009-03-27</td>\n",
       "      <td>US</td>\n",
       "      <td>12</td>\n",
       "      <td>SYSTEM AND METHOD FOR A MERCHANT DEBIT CARD PR...</td>\n",
       "      <td>A merchant debit card program is described tha...</td>\n",
       "      <td>False</td>\n",
       "      <td>ipa100318.xml</td>\n",
       "      <td>8627328a-b3ad-41d0-9a65-292da36aa366</td>\n",
       "      <td>1</td>\n",
       "      <td>f9139cb2-cb8f-11eb-9615-121df0c29c1e</td>\n",
       "    </tr>\n",
       "    <tr>\n",
       "      <th>1</th>\n",
       "      <td>00001b62-f3c4-11eb-b0cf-121df0c29c1e</td>\n",
       "      <td>20210172812</td>\n",
       "      <td>utility</td>\n",
       "      <td>16623118</td>\n",
       "      <td>2018-04-20</td>\n",
       "      <td>US</td>\n",
       "      <td>16</td>\n",
       "      <td>ENERGY CONVERTER, VIBRATION POWER GENERATOR, F...</td>\n",
       "      <td>An energy converter is formed by bonding a sol...</td>\n",
       "      <td>False</td>\n",
       "      <td>NaN</td>\n",
       "      <td>68360f1f-9ba5-4f86-8463-5fd48de70a81</td>\n",
       "      <td>1</td>\n",
       "      <td>NaN</td>\n",
       "    </tr>\n",
       "    <tr>\n",
       "      <th>2</th>\n",
       "      <td>00001b62-f3c4-11eb-b0cf-121df0c29c1e</td>\n",
       "      <td>20210172812</td>\n",
       "      <td>utility</td>\n",
       "      <td>16623118</td>\n",
       "      <td>2018-04-20</td>\n",
       "      <td>US</td>\n",
       "      <td>16</td>\n",
       "      <td>ENERGY CONVERTER, VIBRATION POWER GENERATOR, F...</td>\n",
       "      <td>An energy converter is formed by bonding a sol...</td>\n",
       "      <td>False</td>\n",
       "      <td>NaN</td>\n",
       "      <td>b0282278-f579-405a-a37e-6dca490b7b86</td>\n",
       "      <td>2</td>\n",
       "      <td>NaN</td>\n",
       "    </tr>\n",
       "    <tr>\n",
       "      <th>3</th>\n",
       "      <td>00004fba-ccf9-11ea-ba95-121df0c29c1e</td>\n",
       "      <td>20100070355</td>\n",
       "      <td>utility</td>\n",
       "      <td>12623189</td>\n",
       "      <td>2009-11-20</td>\n",
       "      <td>US</td>\n",
       "      <td>12</td>\n",
       "      <td>Methods for Transmitting Multimedia Files and ...</td>\n",
       "      <td>The invention is directed to a method of trans...</td>\n",
       "      <td>False</td>\n",
       "      <td>ipa100318.xml</td>\n",
       "      <td>5ec9b9e8-545a-4505-bde2-a04fb02c9d07</td>\n",
       "      <td>1</td>\n",
       "      <td>fd10d2b1-cb8e-11eb-9615-121df0c29c1e</td>\n",
       "    </tr>\n",
       "    <tr>\n",
       "      <th>4</th>\n",
       "      <td>00007a2d-ccf9-11ea-ba95-121df0c29c1e</td>\n",
       "      <td>20100070357</td>\n",
       "      <td>utility</td>\n",
       "      <td>12334277</td>\n",
       "      <td>2008-12-12</td>\n",
       "      <td>US</td>\n",
       "      <td>12</td>\n",
       "      <td>INCENTIVE BASED MARKETING THROUGH SOCIAL NETWORKS</td>\n",
       "      <td>A method and system for providing an incentive...</td>\n",
       "      <td>False</td>\n",
       "      <td>ipa100318.xml</td>\n",
       "      <td>b0e41602-d133-4b02-9566-e03b1fdb55ae</td>\n",
       "      <td>1</td>\n",
       "      <td>ffc9f8bd-cb8e-11eb-9615-121df0c29c1e</td>\n",
       "    </tr>\n",
       "  </tbody>\n",
       "</table>\n",
       "</div>"
      ],
      "text/plain": [
       "                                     id  document_number     type  \\\n",
       "0  0000021c-ccf9-11ea-ba95-121df0c29c1e      20100070354  utility   \n",
       "1  00001b62-f3c4-11eb-b0cf-121df0c29c1e      20210172812  utility   \n",
       "2  00001b62-f3c4-11eb-b0cf-121df0c29c1e      20210172812  utility   \n",
       "3  00004fba-ccf9-11ea-ba95-121df0c29c1e      20100070355  utility   \n",
       "4  00007a2d-ccf9-11ea-ba95-121df0c29c1e      20100070357  utility   \n",
       "\n",
       "  application_number        date country  series_code  \\\n",
       "0           12412361  2009-03-27      US           12   \n",
       "1           16623118  2018-04-20      US           16   \n",
       "2           16623118  2018-04-20      US           16   \n",
       "3           12623189  2009-11-20      US           12   \n",
       "4           12334277  2008-12-12      US           12   \n",
       "\n",
       "                                     invention_title  \\\n",
       "0  SYSTEM AND METHOD FOR A MERCHANT DEBIT CARD PR...   \n",
       "1  ENERGY CONVERTER, VIBRATION POWER GENERATOR, F...   \n",
       "2  ENERGY CONVERTER, VIBRATION POWER GENERATOR, F...   \n",
       "3  Methods for Transmitting Multimedia Files and ...   \n",
       "4  INCENTIVE BASED MARKETING THROUGH SOCIAL NETWORKS   \n",
       "\n",
       "                                  invention_abstract  rule_47_flag  \\\n",
       "0  A merchant debit card program is described tha...         False   \n",
       "1  An energy converter is formed by bonding a sol...         False   \n",
       "2  An energy converter is formed by bonding a sol...         False   \n",
       "3  The invention is directed to a method of trans...         False   \n",
       "4  A method and system for providing an incentive...         False   \n",
       "\n",
       "        filename                           assignee_id  sequence  \\\n",
       "0  ipa100318.xml  8627328a-b3ad-41d0-9a65-292da36aa366         1   \n",
       "1            NaN  68360f1f-9ba5-4f86-8463-5fd48de70a81         1   \n",
       "2            NaN  b0282278-f579-405a-a37e-6dca490b7b86         2   \n",
       "3  ipa100318.xml  5ec9b9e8-545a-4505-bde2-a04fb02c9d07         1   \n",
       "4  ipa100318.xml  b0e41602-d133-4b02-9566-e03b1fdb55ae         1   \n",
       "\n",
       "                            location_id  \n",
       "0  f9139cb2-cb8f-11eb-9615-121df0c29c1e  \n",
       "1                                   NaN  \n",
       "2                                   NaN  \n",
       "3  fd10d2b1-cb8e-11eb-9615-121df0c29c1e  \n",
       "4  ffc9f8bd-cb8e-11eb-9615-121df0c29c1e  "
      ]
     },
     "execution_count": 22,
     "metadata": {},
     "output_type": "execute_result"
    }
   ],
   "source": [
    "df_patentsview.head()"
   ]
  },
  {
   "cell_type": "code",
   "execution_count": 23,
   "metadata": {},
   "outputs": [],
   "source": [
    "df_patentsview = pd.merge(df_patentsview,df2_assignee, left_on = \"assignee_id\", right_on = \"id\")"
   ]
  },
  {
   "cell_type": "code",
   "execution_count": 24,
   "metadata": {},
   "outputs": [],
   "source": [
    "# Reduce only application_number left\n",
    "df_appno_patentsview = pd.DataFrame()\n",
    "df_appno_patentsview[\"application_number\"] = df_patentsview[\"application_number\"]"
   ]
  },
  {
   "cell_type": "code",
   "execution_count": 25,
   "metadata": {},
   "outputs": [
    {
     "data": {
      "text/plain": [
       "(95324, 1)"
      ]
     },
     "execution_count": 25,
     "metadata": {},
     "output_type": "execute_result"
    }
   ],
   "source": [
    "df_appno_patentsview.shape"
   ]
  },
  {
   "cell_type": "code",
   "execution_count": 26,
   "metadata": {},
   "outputs": [
    {
     "data": {
      "text/html": [
       "<div>\n",
       "<style scoped>\n",
       "    .dataframe tbody tr th:only-of-type {\n",
       "        vertical-align: middle;\n",
       "    }\n",
       "\n",
       "    .dataframe tbody tr th {\n",
       "        vertical-align: top;\n",
       "    }\n",
       "\n",
       "    .dataframe thead th {\n",
       "        text-align: right;\n",
       "    }\n",
       "</style>\n",
       "<table border=\"1\" class=\"dataframe\">\n",
       "  <thead>\n",
       "    <tr style=\"text-align: right;\">\n",
       "      <th></th>\n",
       "      <th>application_number</th>\n",
       "    </tr>\n",
       "  </thead>\n",
       "  <tbody>\n",
       "    <tr>\n",
       "      <th>0</th>\n",
       "      <td>16623118</td>\n",
       "    </tr>\n",
       "    <tr>\n",
       "      <th>1</th>\n",
       "      <td>12589849</td>\n",
       "    </tr>\n",
       "    <tr>\n",
       "      <th>2</th>\n",
       "      <td>12589852</td>\n",
       "    </tr>\n",
       "    <tr>\n",
       "      <th>3</th>\n",
       "      <td>12589949</td>\n",
       "    </tr>\n",
       "    <tr>\n",
       "      <th>4</th>\n",
       "      <td>14342829</td>\n",
       "    </tr>\n",
       "  </tbody>\n",
       "</table>\n",
       "</div>"
      ],
      "text/plain": [
       "  application_number\n",
       "0           16623118\n",
       "1           12589849\n",
       "2           12589852\n",
       "3           12589949\n",
       "4           14342829"
      ]
     },
     "execution_count": 26,
     "metadata": {},
     "output_type": "execute_result"
    }
   ],
   "source": [
    "df_appno_patentsview.head()"
   ]
  },
  {
   "cell_type": "markdown",
   "metadata": {},
   "source": [
    "## Patent Assignment\n",
    "Second data set that includes information about assignees (and assignors)"
   ]
  },
  {
   "cell_type": "markdown",
   "metadata": {},
   "source": [
    "### documentid_admin"
   ]
  },
  {
   "cell_type": "code",
   "execution_count": 27,
   "metadata": {},
   "outputs": [
    {
     "name": "stderr",
     "output_type": "stream",
     "text": [
      "c:\\users\\lucas\\appdata\\local\\programs\\python\\python38\\lib\\site-packages\\IPython\\core\\interactiveshell.py:3331: DtypeWarning: Columns (1,2,4) have mixed types.Specify dtype option on import or set low_memory=False.\n",
      "  exec(code_obj, self.user_global_ns, self.user_ns)\n"
     ]
    }
   ],
   "source": [
    "df_document = pd.DataFrame()\n",
    "df_document = pd.read_csv(os.path.join(raw_data_path,\"uspto/documentid_admin.csv\").replace(\"\\\\\",\"/\"), delimiter=\",\")"
   ]
  },
  {
   "cell_type": "code",
   "execution_count": 28,
   "metadata": {},
   "outputs": [
    {
     "data": {
      "text/html": [
       "<div>\n",
       "<style scoped>\n",
       "    .dataframe tbody tr th:only-of-type {\n",
       "        vertical-align: middle;\n",
       "    }\n",
       "\n",
       "    .dataframe tbody tr th {\n",
       "        vertical-align: top;\n",
       "    }\n",
       "\n",
       "    .dataframe thead th {\n",
       "        text-align: right;\n",
       "    }\n",
       "</style>\n",
       "<table border=\"1\" class=\"dataframe\">\n",
       "  <thead>\n",
       "    <tr style=\"text-align: right;\">\n",
       "      <th></th>\n",
       "      <th>rf_id</th>\n",
       "      <th>appno_doc_num</th>\n",
       "      <th>grant_doc_num</th>\n",
       "      <th>admin_appl_id_for_grant</th>\n",
       "      <th>admin_pat_no_for_appno</th>\n",
       "      <th>error</th>\n",
       "    </tr>\n",
       "  </thead>\n",
       "  <tbody>\n",
       "    <tr>\n",
       "      <th>0</th>\n",
       "      <td>53050866</td>\n",
       "      <td>NaN</td>\n",
       "      <td>3844976</td>\n",
       "      <td>NaN</td>\n",
       "      <td>NaN</td>\n",
       "      <td>missing appno_doc_num</td>\n",
       "    </tr>\n",
       "    <tr>\n",
       "      <th>1</th>\n",
       "      <td>206900830</td>\n",
       "      <td>NaN</td>\n",
       "      <td>0866957</td>\n",
       "      <td>NaN</td>\n",
       "      <td>NaN</td>\n",
       "      <td>missing appno_doc_num</td>\n",
       "    </tr>\n",
       "    <tr>\n",
       "      <th>2</th>\n",
       "      <td>58470541</td>\n",
       "      <td>NaN</td>\n",
       "      <td>0561661</td>\n",
       "      <td>NaN</td>\n",
       "      <td>NaN</td>\n",
       "      <td>missing appno_doc_num</td>\n",
       "    </tr>\n",
       "    <tr>\n",
       "      <th>3</th>\n",
       "      <td>57910252</td>\n",
       "      <td>NaN</td>\n",
       "      <td>4164286</td>\n",
       "      <td>NaN</td>\n",
       "      <td>NaN</td>\n",
       "      <td>missing appno_doc_num</td>\n",
       "    </tr>\n",
       "    <tr>\n",
       "      <th>4</th>\n",
       "      <td>52700026</td>\n",
       "      <td>NaN</td>\n",
       "      <td>4030173</td>\n",
       "      <td>NaN</td>\n",
       "      <td>NaN</td>\n",
       "      <td>missing appno_doc_num</td>\n",
       "    </tr>\n",
       "  </tbody>\n",
       "</table>\n",
       "</div>"
      ],
      "text/plain": [
       "       rf_id appno_doc_num grant_doc_num  admin_appl_id_for_grant  \\\n",
       "0   53050866           NaN       3844976                      NaN   \n",
       "1  206900830           NaN       0866957                      NaN   \n",
       "2   58470541           NaN       0561661                      NaN   \n",
       "3   57910252           NaN       4164286                      NaN   \n",
       "4   52700026           NaN       4030173                      NaN   \n",
       "\n",
       "  admin_pat_no_for_appno                  error  \n",
       "0                    NaN  missing appno_doc_num  \n",
       "1                    NaN  missing appno_doc_num  \n",
       "2                    NaN  missing appno_doc_num  \n",
       "3                    NaN  missing appno_doc_num  \n",
       "4                    NaN  missing appno_doc_num  "
      ]
     },
     "execution_count": 28,
     "metadata": {},
     "output_type": "execute_result"
    }
   ],
   "source": [
    "df_document.head()"
   ]
  },
  {
   "cell_type": "code",
   "execution_count": 29,
   "metadata": {},
   "outputs": [
    {
     "name": "stderr",
     "output_type": "stream",
     "text": [
      "<ipython-input-29-043d6e481dd1>:6: FutureWarning: The default value of regex will change from True to False in a future version. In addition, single character regular expressions will *not* be treated as literal strings when regex=True.\n",
      "  df_document.appno_doc_num= df_document.appno_doc_num.str.replace(\".\",\"\")\n"
     ]
    }
   ],
   "source": [
    "### Clean dataframe df_document -> preperation for merge by \"appno_doc_num\"\n",
    "\n",
    "df_document =df_document.loc[df_document.appno_doc_num.isna()==False, :]\n",
    "df_document = df_document.loc[df_document.error != \"incorrect appno_doc_num\",:]\n",
    "df_document.appno_doc_num = df_document.appno_doc_num.astype(\"string\")\n",
    "df_document.appno_doc_num= df_document.appno_doc_num.str.replace(\".\",\"\")"
   ]
  },
  {
   "cell_type": "code",
   "execution_count": 30,
   "metadata": {},
   "outputs": [
    {
     "data": {
      "text/plain": [
       "(15005371, 6)"
      ]
     },
     "execution_count": 30,
     "metadata": {},
     "output_type": "execute_result"
    }
   ],
   "source": [
    "df_document.shape"
   ]
  },
  {
   "cell_type": "markdown",
   "metadata": {},
   "source": [
    "### assignee"
   ]
  },
  {
   "cell_type": "code",
   "execution_count": 31,
   "metadata": {},
   "outputs": [],
   "source": [
    "df3_assignee = pd.DataFrame()\n",
    "df3_assignee = pd.read_csv(os.path.join(raw_data_path,\"uspto/assignee.csv\").replace(\"\\\\\",\"/\"),delimiter=\",\")"
   ]
  },
  {
   "cell_type": "code",
   "execution_count": 32,
   "metadata": {},
   "outputs": [
    {
     "data": {
      "text/html": [
       "<div>\n",
       "<style scoped>\n",
       "    .dataframe tbody tr th:only-of-type {\n",
       "        vertical-align: middle;\n",
       "    }\n",
       "\n",
       "    .dataframe tbody tr th {\n",
       "        vertical-align: top;\n",
       "    }\n",
       "\n",
       "    .dataframe thead th {\n",
       "        text-align: right;\n",
       "    }\n",
       "</style>\n",
       "<table border=\"1\" class=\"dataframe\">\n",
       "  <thead>\n",
       "    <tr style=\"text-align: right;\">\n",
       "      <th></th>\n",
       "      <th>rf_id</th>\n",
       "      <th>ee_name</th>\n",
       "      <th>ee_address_1</th>\n",
       "      <th>ee_address_2</th>\n",
       "      <th>ee_city</th>\n",
       "      <th>ee_state</th>\n",
       "      <th>ee_postcode</th>\n",
       "      <th>ee_country</th>\n",
       "    </tr>\n",
       "  </thead>\n",
       "  <tbody>\n",
       "    <tr>\n",
       "      <th>0</th>\n",
       "      <td>12800340</td>\n",
       "      <td>CHILDREN'S MEDICAL CENTER CORPORATION</td>\n",
       "      <td>55 SHATTUCK STREET BOSTON, MA 02115</td>\n",
       "      <td>NaN</td>\n",
       "      <td>NaN</td>\n",
       "      <td>NaN</td>\n",
       "      <td>NaN</td>\n",
       "      <td>NaN</td>\n",
       "    </tr>\n",
       "    <tr>\n",
       "      <th>1</th>\n",
       "      <td>36250888</td>\n",
       "      <td>NORTHERN TELECOM LIMITED</td>\n",
       "      <td>NaN</td>\n",
       "      <td>NaN</td>\n",
       "      <td>NaN</td>\n",
       "      <td>NaN</td>\n",
       "      <td>NaN</td>\n",
       "      <td>NOT PROVIDED</td>\n",
       "    </tr>\n",
       "    <tr>\n",
       "      <th>2</th>\n",
       "      <td>36340874</td>\n",
       "      <td>PARADYNE CORPORATION</td>\n",
       "      <td>NaN</td>\n",
       "      <td>8550 ULMERTON ROAD</td>\n",
       "      <td>LARGO</td>\n",
       "      <td>FLORIDA</td>\n",
       "      <td>33540</td>\n",
       "      <td>NaN</td>\n",
       "    </tr>\n",
       "    <tr>\n",
       "      <th>3</th>\n",
       "      <td>36340875</td>\n",
       "      <td>PARADYNE CORPORATION</td>\n",
       "      <td>NaN</td>\n",
       "      <td>8550 ULMERTON ROAD</td>\n",
       "      <td>LARGO</td>\n",
       "      <td>FLORIDA</td>\n",
       "      <td>33540</td>\n",
       "      <td>NaN</td>\n",
       "    </tr>\n",
       "    <tr>\n",
       "      <th>4</th>\n",
       "      <td>36920537</td>\n",
       "      <td>EHD, INC.</td>\n",
       "      <td>A TENNESSEE CORPORATION</td>\n",
       "      <td>500 GOULD DRIVE</td>\n",
       "      <td>COOKEVILLE</td>\n",
       "      <td>TENNESSEE</td>\n",
       "      <td>38501</td>\n",
       "      <td>NaN</td>\n",
       "    </tr>\n",
       "  </tbody>\n",
       "</table>\n",
       "</div>"
      ],
      "text/plain": [
       "      rf_id                                ee_name  \\\n",
       "0  12800340  CHILDREN'S MEDICAL CENTER CORPORATION   \n",
       "1  36250888               NORTHERN TELECOM LIMITED   \n",
       "2  36340874                   PARADYNE CORPORATION   \n",
       "3  36340875                   PARADYNE CORPORATION   \n",
       "4  36920537                              EHD, INC.   \n",
       "\n",
       "                          ee_address_1        ee_address_2     ee_city  \\\n",
       "0  55 SHATTUCK STREET BOSTON, MA 02115                 NaN         NaN   \n",
       "1                                  NaN                 NaN         NaN   \n",
       "2                                  NaN  8550 ULMERTON ROAD       LARGO   \n",
       "3                                  NaN  8550 ULMERTON ROAD       LARGO   \n",
       "4              A TENNESSEE CORPORATION     500 GOULD DRIVE  COOKEVILLE   \n",
       "\n",
       "    ee_state ee_postcode    ee_country  \n",
       "0        NaN         NaN           NaN  \n",
       "1        NaN         NaN  NOT PROVIDED  \n",
       "2    FLORIDA       33540           NaN  \n",
       "3    FLORIDA       33540           NaN  \n",
       "4  TENNESSEE       38501           NaN  "
      ]
     },
     "execution_count": 32,
     "metadata": {},
     "output_type": "execute_result"
    }
   ],
   "source": [
    "df3_assignee.head()"
   ]
  },
  {
   "cell_type": "code",
   "execution_count": 33,
   "metadata": {},
   "outputs": [],
   "source": [
    "### Selection of \"university\"\n",
    "df4_assignee = pd.DataFrame()\n",
    "df4_assignee = df3_assignee.loc[(df3_assignee[\"ee_name\"].str.contains(\"University\")==True) | (df3_assignee[\"ee_name\"].str.contains(\"UNIVERSITY\")==True)| (df3_assignee[\"ee_name\"].str.contains(\"Institute\")==True)| (df3_assignee[\"ee_name\"].str.contains(\"INSTITUTE\")==True)| (df3_assignee[\"ee_name\"].str.contains(\"Faculty\")==True)| (df3_assignee[\"ee_name\"].str.contains(\"FACULTY\")==True), :]"
   ]
  },
  {
   "cell_type": "code",
   "execution_count": 34,
   "metadata": {},
   "outputs": [
    {
     "data": {
      "text/plain": [
       "(394209, 8)"
      ]
     },
     "execution_count": 34,
     "metadata": {},
     "output_type": "execute_result"
    }
   ],
   "source": [
    "df4_assignee.shape"
   ]
  },
  {
   "cell_type": "markdown",
   "metadata": {},
   "source": [
    "#### Merge assignee (only university)"
   ]
  },
  {
   "cell_type": "code",
   "execution_count": 35,
   "metadata": {},
   "outputs": [],
   "source": [
    "df4_assignee = pd.merge(df4_assignee, df_document, on=\"rf_id\")"
   ]
  },
  {
   "cell_type": "code",
   "execution_count": 37,
   "metadata": {},
   "outputs": [],
   "source": [
    "# Reduce for application number \n",
    "df_app_no_assignee = pd.DataFrame()\n",
    "df_app_no_assignee[\"application_number\"] = df4_assignee[\"appno_doc_num\"]"
   ]
  },
  {
   "cell_type": "code",
   "execution_count": 39,
   "metadata": {
    "scrolled": true
   },
   "outputs": [
    {
     "data": {
      "text/html": [
       "<div>\n",
       "<style scoped>\n",
       "    .dataframe tbody tr th:only-of-type {\n",
       "        vertical-align: middle;\n",
       "    }\n",
       "\n",
       "    .dataframe tbody tr th {\n",
       "        vertical-align: top;\n",
       "    }\n",
       "\n",
       "    .dataframe thead th {\n",
       "        text-align: right;\n",
       "    }\n",
       "</style>\n",
       "<table border=\"1\" class=\"dataframe\">\n",
       "  <thead>\n",
       "    <tr style=\"text-align: right;\">\n",
       "      <th></th>\n",
       "      <th>application_number</th>\n",
       "    </tr>\n",
       "  </thead>\n",
       "  <tbody>\n",
       "    <tr>\n",
       "      <th>0</th>\n",
       "      <td>5935638</td>\n",
       "    </tr>\n",
       "    <tr>\n",
       "      <th>1</th>\n",
       "      <td>5729465</td>\n",
       "    </tr>\n",
       "    <tr>\n",
       "      <th>2</th>\n",
       "      <td>6128800</td>\n",
       "    </tr>\n",
       "    <tr>\n",
       "      <th>3</th>\n",
       "      <td>6162524</td>\n",
       "    </tr>\n",
       "    <tr>\n",
       "      <th>4</th>\n",
       "      <td>6086647</td>\n",
       "    </tr>\n",
       "  </tbody>\n",
       "</table>\n",
       "</div>"
      ],
      "text/plain": [
       "  application_number\n",
       "0            5935638\n",
       "1            5729465\n",
       "2            6128800\n",
       "3            6162524\n",
       "4            6086647"
      ]
     },
     "execution_count": 39,
     "metadata": {},
     "output_type": "execute_result"
    }
   ],
   "source": [
    "df_app_no_assignee.head()"
   ]
  },
  {
   "cell_type": "code",
   "execution_count": 40,
   "metadata": {},
   "outputs": [
    {
     "data": {
      "text/plain": [
       "(410740, 1)"
      ]
     },
     "execution_count": 40,
     "metadata": {},
     "output_type": "execute_result"
    }
   ],
   "source": [
    "df_app_no_assignee.shape"
   ]
  },
  {
   "cell_type": "markdown",
   "metadata": {},
   "source": [
    "### assignor"
   ]
  },
  {
   "cell_type": "code",
   "execution_count": 41,
   "metadata": {},
   "outputs": [
    {
     "name": "stderr",
     "output_type": "stream",
     "text": [
      "c:\\users\\lucas\\appdata\\local\\programs\\python\\python38\\lib\\site-packages\\IPython\\core\\interactiveshell.py:3331: DtypeWarning: Columns (3) have mixed types.Specify dtype option on import or set low_memory=False.\n",
      "  exec(code_obj, self.user_global_ns, self.user_ns)\n"
     ]
    }
   ],
   "source": [
    "df_assignor = pd.DataFrame()\n",
    "df_assignor = pd.read_csv(os.path.join(raw_data_path,\"uspto/assignor.csv\").replace(\"\\\\\",\"/\"), delimiter=\",\")"
   ]
  },
  {
   "cell_type": "code",
   "execution_count": 42,
   "metadata": {},
   "outputs": [
    {
     "data": {
      "text/plain": [
       "(21254300, 4)"
      ]
     },
     "execution_count": 42,
     "metadata": {},
     "output_type": "execute_result"
    }
   ],
   "source": [
    "df_assignor.shape"
   ]
  },
  {
   "cell_type": "code",
   "execution_count": 43,
   "metadata": {},
   "outputs": [
    {
     "data": {
      "text/html": [
       "<div>\n",
       "<style scoped>\n",
       "    .dataframe tbody tr th:only-of-type {\n",
       "        vertical-align: middle;\n",
       "    }\n",
       "\n",
       "    .dataframe tbody tr th {\n",
       "        vertical-align: top;\n",
       "    }\n",
       "\n",
       "    .dataframe thead th {\n",
       "        text-align: right;\n",
       "    }\n",
       "</style>\n",
       "<table border=\"1\" class=\"dataframe\">\n",
       "  <thead>\n",
       "    <tr style=\"text-align: right;\">\n",
       "      <th></th>\n",
       "      <th>rf_id</th>\n",
       "      <th>or_name</th>\n",
       "      <th>exec_dt</th>\n",
       "      <th>ack_dt</th>\n",
       "    </tr>\n",
       "  </thead>\n",
       "  <tbody>\n",
       "    <tr>\n",
       "      <th>0</th>\n",
       "      <td>12800340</td>\n",
       "      <td>ATALA, ANTHONY</td>\n",
       "      <td>1994-12-22</td>\n",
       "      <td>NaN</td>\n",
       "    </tr>\n",
       "    <tr>\n",
       "      <th>1</th>\n",
       "      <td>36250888</td>\n",
       "      <td>NORTHERN ELECTRIC COMPANY LIMITED</td>\n",
       "      <td>1976-03-01</td>\n",
       "      <td>NaN</td>\n",
       "    </tr>\n",
       "    <tr>\n",
       "      <th>2</th>\n",
       "      <td>36340874</td>\n",
       "      <td>ARMSTRONG, THOMAS R.</td>\n",
       "      <td>1979-02-23</td>\n",
       "      <td>NaN</td>\n",
       "    </tr>\n",
       "    <tr>\n",
       "      <th>3</th>\n",
       "      <td>36340875</td>\n",
       "      <td>ARMSTRONG, THOMAS R.</td>\n",
       "      <td>1979-02-23</td>\n",
       "      <td>NaN</td>\n",
       "    </tr>\n",
       "    <tr>\n",
       "      <th>4</th>\n",
       "      <td>36920537</td>\n",
       "      <td>GOULD INC.</td>\n",
       "      <td>1978-10-31</td>\n",
       "      <td>NaN</td>\n",
       "    </tr>\n",
       "  </tbody>\n",
       "</table>\n",
       "</div>"
      ],
      "text/plain": [
       "      rf_id                            or_name     exec_dt ack_dt\n",
       "0  12800340                     ATALA, ANTHONY  1994-12-22    NaN\n",
       "1  36250888  NORTHERN ELECTRIC COMPANY LIMITED  1976-03-01    NaN\n",
       "2  36340874               ARMSTRONG, THOMAS R.  1979-02-23    NaN\n",
       "3  36340875               ARMSTRONG, THOMAS R.  1979-02-23    NaN\n",
       "4  36920537                         GOULD INC.  1978-10-31    NaN"
      ]
     },
     "execution_count": 43,
     "metadata": {},
     "output_type": "execute_result"
    }
   ],
   "source": [
    "df_assignor.head()"
   ]
  },
  {
   "cell_type": "code",
   "execution_count": 44,
   "metadata": {},
   "outputs": [],
   "source": [
    "# Changed assignee: after year 2000\n",
    "df_assignor = df_assignor.loc[(df_assignor[\"exec_dt\"] > '2000-12-31') & (df_assignor[\"exec_dt\"] <= '2015-12-31'),:]"
   ]
  },
  {
   "cell_type": "code",
   "execution_count": 45,
   "metadata": {},
   "outputs": [
    {
     "data": {
      "text/plain": [
       "(12872859, 4)"
      ]
     },
     "execution_count": 45,
     "metadata": {},
     "output_type": "execute_result"
    }
   ],
   "source": [
    "df_assignor.shape"
   ]
  },
  {
   "cell_type": "code",
   "execution_count": 46,
   "metadata": {},
   "outputs": [],
   "source": [
    "### Selection of \"university\" \n",
    "df2_assignor = pd.DataFrame()\n",
    "df2_assignor = df_assignor.loc[(df_assignor[\"or_name\"].str.contains(\"UNIVERSITY\")==True) | (df_assignor[\"or_name\"].str.contains(\"University\")==True)| (df_assignor[\"or_name\"].str.contains(\"Institute\")==True)| (df_assignor[\"or_name\"].str.contains(\"INSTITUTE\")==True)| (df_assignor[\"or_name\"].str.contains(\"Faculty\")==True)| (df_assignor[\"or_name\"].str.contains(\"FACULTY\")==True),:]"
   ]
  },
  {
   "cell_type": "code",
   "execution_count": 47,
   "metadata": {},
   "outputs": [],
   "source": [
    "df2_assignor = pd.merge(df2_assignor,df_document,on=\"rf_id\")"
   ]
  },
  {
   "cell_type": "code",
   "execution_count": 48,
   "metadata": {},
   "outputs": [],
   "source": [
    "df2_assignor_application = pd.DataFrame()\n",
    "df2_assignor_application[\"application_number\"]= df2_assignor[\"appno_doc_num\"]"
   ]
  },
  {
   "cell_type": "code",
   "execution_count": 49,
   "metadata": {},
   "outputs": [
    {
     "data": {
      "text/html": [
       "<div>\n",
       "<style scoped>\n",
       "    .dataframe tbody tr th:only-of-type {\n",
       "        vertical-align: middle;\n",
       "    }\n",
       "\n",
       "    .dataframe tbody tr th {\n",
       "        vertical-align: top;\n",
       "    }\n",
       "\n",
       "    .dataframe thead th {\n",
       "        text-align: right;\n",
       "    }\n",
       "</style>\n",
       "<table border=\"1\" class=\"dataframe\">\n",
       "  <thead>\n",
       "    <tr style=\"text-align: right;\">\n",
       "      <th></th>\n",
       "      <th>application_number</th>\n",
       "    </tr>\n",
       "  </thead>\n",
       "  <tbody>\n",
       "    <tr>\n",
       "      <th>0</th>\n",
       "      <td>9562328</td>\n",
       "    </tr>\n",
       "    <tr>\n",
       "      <th>1</th>\n",
       "      <td>7761407</td>\n",
       "    </tr>\n",
       "    <tr>\n",
       "      <th>2</th>\n",
       "      <td>9270737</td>\n",
       "    </tr>\n",
       "    <tr>\n",
       "      <th>3</th>\n",
       "      <td>9617033</td>\n",
       "    </tr>\n",
       "    <tr>\n",
       "      <th>4</th>\n",
       "      <td>9677972</td>\n",
       "    </tr>\n",
       "  </tbody>\n",
       "</table>\n",
       "</div>"
      ],
      "text/plain": [
       "  application_number\n",
       "0            9562328\n",
       "1            7761407\n",
       "2            9270737\n",
       "3            9617033\n",
       "4            9677972"
      ]
     },
     "execution_count": 49,
     "metadata": {},
     "output_type": "execute_result"
    }
   ],
   "source": [
    "df2_assignor_application.head()"
   ]
  },
  {
   "cell_type": "markdown",
   "metadata": {},
   "source": [
    "### Merge of all 3 data set \n",
    "according assignee=university"
   ]
  },
  {
   "cell_type": "code",
   "execution_count": 50,
   "metadata": {},
   "outputs": [],
   "source": [
    "#Join all application numbers\n",
    "df_applications=pd.DataFrame()\n",
    "df_applications=pd.concat([df2_assignor_application,df_app_no_assignee,df_appno_patentsview])\n"
   ]
  },
  {
   "cell_type": "code",
   "execution_count": 51,
   "metadata": {},
   "outputs": [],
   "source": [
    "# Eliminate duplicates -> Final data set for application numbers\n",
    "df_applications.drop_duplicates(subset=[\"application_number\"], inplace = True)"
   ]
  },
  {
   "cell_type": "code",
   "execution_count": 52,
   "metadata": {},
   "outputs": [
    {
     "data": {
      "text/plain": [
       "(341027, 1)"
      ]
     },
     "execution_count": 52,
     "metadata": {},
     "output_type": "execute_result"
    }
   ],
   "source": [
    "df_applications.shape"
   ]
  },
  {
   "cell_type": "code",
   "execution_count": 56,
   "metadata": {},
   "outputs": [],
   "source": [
    "# Upload as csv final_data\n",
    "df_applications.to_csv(\"raw_data/application_numbers.csv\", index=False)"
   ]
  },
  {
   "cell_type": "markdown",
   "metadata": {},
   "source": [
    "## Next Steps\n",
    "#### selected patent applications merge with applications(PateEx)\n",
    "--------------------------------------------------------------\n",
    "#### use selected patent publication numbers in Dimensions"
   ]
  },
  {
   "cell_type": "code",
   "execution_count": 57,
   "metadata": {},
   "outputs": [],
   "source": [
    "df_numbers = pd.DataFrame()\n",
    "df_numbers = pd.read_csv(os.path.join(raw_data_path,\"application_numbers.csv\").replace(\"\\\\\",\"/\"), delimiter=\",\")"
   ]
  },
  {
   "cell_type": "code",
   "execution_count": 58,
   "metadata": {
    "scrolled": true
   },
   "outputs": [
    {
     "data": {
      "text/html": [
       "<div>\n",
       "<style scoped>\n",
       "    .dataframe tbody tr th:only-of-type {\n",
       "        vertical-align: middle;\n",
       "    }\n",
       "\n",
       "    .dataframe tbody tr th {\n",
       "        vertical-align: top;\n",
       "    }\n",
       "\n",
       "    .dataframe thead th {\n",
       "        text-align: right;\n",
       "    }\n",
       "</style>\n",
       "<table border=\"1\" class=\"dataframe\">\n",
       "  <thead>\n",
       "    <tr style=\"text-align: right;\">\n",
       "      <th></th>\n",
       "      <th>application_number</th>\n",
       "    </tr>\n",
       "  </thead>\n",
       "  <tbody>\n",
       "    <tr>\n",
       "      <th>0</th>\n",
       "      <td>9562328</td>\n",
       "    </tr>\n",
       "    <tr>\n",
       "      <th>1</th>\n",
       "      <td>7761407</td>\n",
       "    </tr>\n",
       "    <tr>\n",
       "      <th>2</th>\n",
       "      <td>9270737</td>\n",
       "    </tr>\n",
       "    <tr>\n",
       "      <th>3</th>\n",
       "      <td>9617033</td>\n",
       "    </tr>\n",
       "    <tr>\n",
       "      <th>4</th>\n",
       "      <td>9677972</td>\n",
       "    </tr>\n",
       "  </tbody>\n",
       "</table>\n",
       "</div>"
      ],
      "text/plain": [
       "  application_number\n",
       "0            9562328\n",
       "1            7761407\n",
       "2            9270737\n",
       "3            9617033\n",
       "4            9677972"
      ]
     },
     "execution_count": 58,
     "metadata": {},
     "output_type": "execute_result"
    }
   ],
   "source": [
    "df_numbers.head()"
   ]
  },
  {
   "cell_type": "code",
   "execution_count": 60,
   "metadata": {},
   "outputs": [],
   "source": [
    "df_dimensions = pd.DataFrame()\n",
    "df_dimensions = pd.merge(df2_application,df_numbers, on=\"application_number\")"
   ]
  },
  {
   "cell_type": "code",
   "execution_count": 61,
   "metadata": {
    "scrolled": true
   },
   "outputs": [
    {
     "data": {
      "text/html": [
       "<div>\n",
       "<style scoped>\n",
       "    .dataframe tbody tr th:only-of-type {\n",
       "        vertical-align: middle;\n",
       "    }\n",
       "\n",
       "    .dataframe tbody tr th {\n",
       "        vertical-align: top;\n",
       "    }\n",
       "\n",
       "    .dataframe thead th {\n",
       "        text-align: right;\n",
       "    }\n",
       "</style>\n",
       "<table border=\"1\" class=\"dataframe\">\n",
       "  <thead>\n",
       "    <tr style=\"text-align: right;\">\n",
       "      <th></th>\n",
       "      <th>application_number</th>\n",
       "      <th>filing_date</th>\n",
       "      <th>application_invention_type</th>\n",
       "      <th>examiner_full_name</th>\n",
       "      <th>examiner_art_unit</th>\n",
       "      <th>uspc_class</th>\n",
       "      <th>uspc_subclass</th>\n",
       "      <th>confirm_number</th>\n",
       "      <th>atty_docket_number</th>\n",
       "      <th>appl_status_desc</th>\n",
       "      <th>appl_status_date</th>\n",
       "      <th>file_location</th>\n",
       "      <th>file_location_date</th>\n",
       "      <th>earliest_pgpub_number</th>\n",
       "      <th>earliest_pgpub_date</th>\n",
       "      <th>patent_number</th>\n",
       "      <th>patent_issue_date</th>\n",
       "      <th>aia_first_to_file</th>\n",
       "    </tr>\n",
       "  </thead>\n",
       "  <tbody>\n",
       "    <tr>\n",
       "      <th>0</th>\n",
       "      <td>10227652</td>\n",
       "      <td>2001-03-28</td>\n",
       "      <td>Utility</td>\n",
       "      <td>MARC, MCDIEUNEL</td>\n",
       "      <td>3661</td>\n",
       "      <td>700</td>\n",
       "      <td>245000</td>\n",
       "      <td>4659.0</td>\n",
       "      <td>CIT 3189</td>\n",
       "      <td>Patented Case</td>\n",
       "      <td>2004-02-05</td>\n",
       "      <td>FILE REPOSITORY (FRANCONIA)</td>\n",
       "      <td>2018-06-22</td>\n",
       "      <td>US20030074108A1</td>\n",
       "      <td>2003-04-17</td>\n",
       "      <td>6697710</td>\n",
       "      <td>2004-02-24</td>\n",
       "      <td>false</td>\n",
       "    </tr>\n",
       "    <tr>\n",
       "      <th>1</th>\n",
       "      <td>10041727</td>\n",
       "      <td>2001-04-12</td>\n",
       "      <td>Utility</td>\n",
       "      <td>HUGHES, DEANDRA M</td>\n",
       "      <td>3663</td>\n",
       "      <td>359</td>\n",
       "      <td>349000</td>\n",
       "      <td>4488.0</td>\n",
       "      <td>06666-075001/USC-2966</td>\n",
       "      <td>Patent Expired Due to NonPayment of Maintenanc...</td>\n",
       "      <td>2015-10-12</td>\n",
       "      <td>FILE REPOSITORY (FRANCONIA)</td>\n",
       "      <td>2018-06-23</td>\n",
       "      <td>US20020167722A1</td>\n",
       "      <td>2002-11-14</td>\n",
       "      <td>6621627</td>\n",
       "      <td>2003-09-16</td>\n",
       "      <td>false</td>\n",
       "    </tr>\n",
       "    <tr>\n",
       "      <th>2</th>\n",
       "      <td>10294044</td>\n",
       "      <td>2001-07-18</td>\n",
       "      <td>Utility</td>\n",
       "      <td>NGUYEN, TANH Q</td>\n",
       "      <td>2182</td>\n",
       "      <td>710</td>\n",
       "      <td>100000</td>\n",
       "      <td>8124.0</td>\n",
       "      <td>FULCP014C2</td>\n",
       "      <td>Abandoned -- Failure to Respond to an Office A...</td>\n",
       "      <td>2007-08-31</td>\n",
       "      <td>ELECTRONIC</td>\n",
       "      <td>NaN</td>\n",
       "      <td>US20040030858A1</td>\n",
       "      <td>2004-02-12</td>\n",
       "      <td>NaN</td>\n",
       "      <td>NaN</td>\n",
       "      <td>false</td>\n",
       "    </tr>\n",
       "    <tr>\n",
       "      <th>3</th>\n",
       "      <td>10076918</td>\n",
       "      <td>2001-10-11</td>\n",
       "      <td>Utility</td>\n",
       "      <td>SWOPE, SHERIDAN</td>\n",
       "      <td>1652</td>\n",
       "      <td>435</td>\n",
       "      <td>023000</td>\n",
       "      <td>8460.0</td>\n",
       "      <td>UTSD:857US/SLH</td>\n",
       "      <td>Abandoned -- Failure to Respond to an Office A...</td>\n",
       "      <td>2005-06-03</td>\n",
       "      <td>ELECTRONIC</td>\n",
       "      <td>NaN</td>\n",
       "      <td>US20030073097A1</td>\n",
       "      <td>2003-04-17</td>\n",
       "      <td>NaN</td>\n",
       "      <td>NaN</td>\n",
       "      <td>false</td>\n",
       "    </tr>\n",
       "    <tr>\n",
       "      <th>4</th>\n",
       "      <td>10004348</td>\n",
       "      <td>2001-10-18</td>\n",
       "      <td>Utility</td>\n",
       "      <td>LY, CHEYNE D</td>\n",
       "      <td>2168</td>\n",
       "      <td>702</td>\n",
       "      <td>019000</td>\n",
       "      <td>3700.0</td>\n",
       "      <td>STAN-182</td>\n",
       "      <td>Abandoned -- Failure to Respond to an Office A...</td>\n",
       "      <td>2005-10-20</td>\n",
       "      <td>ELECTRONIC</td>\n",
       "      <td>NaN</td>\n",
       "      <td>US20020146371A1</td>\n",
       "      <td>2002-10-10</td>\n",
       "      <td>NaN</td>\n",
       "      <td>NaN</td>\n",
       "      <td>false</td>\n",
       "    </tr>\n",
       "  </tbody>\n",
       "</table>\n",
       "</div>"
      ],
      "text/plain": [
       "  application_number filing_date application_invention_type  \\\n",
       "0           10227652  2001-03-28                    Utility   \n",
       "1           10041727  2001-04-12                    Utility   \n",
       "2           10294044  2001-07-18                    Utility   \n",
       "3           10076918  2001-10-11                    Utility   \n",
       "4           10004348  2001-10-18                    Utility   \n",
       "\n",
       "  examiner_full_name examiner_art_unit uspc_class uspc_subclass  \\\n",
       "0    MARC, MCDIEUNEL              3661        700        245000   \n",
       "1  HUGHES, DEANDRA M              3663        359        349000   \n",
       "2     NGUYEN, TANH Q              2182        710        100000   \n",
       "3    SWOPE, SHERIDAN              1652        435        023000   \n",
       "4       LY, CHEYNE D              2168        702        019000   \n",
       "\n",
       "   confirm_number     atty_docket_number  \\\n",
       "0          4659.0               CIT 3189   \n",
       "1          4488.0  06666-075001/USC-2966   \n",
       "2          8124.0             FULCP014C2   \n",
       "3          8460.0         UTSD:857US/SLH   \n",
       "4          3700.0               STAN-182   \n",
       "\n",
       "                                    appl_status_desc appl_status_date  \\\n",
       "0                                      Patented Case       2004-02-05   \n",
       "1  Patent Expired Due to NonPayment of Maintenanc...       2015-10-12   \n",
       "2  Abandoned -- Failure to Respond to an Office A...       2007-08-31   \n",
       "3  Abandoned -- Failure to Respond to an Office A...       2005-06-03   \n",
       "4  Abandoned -- Failure to Respond to an Office A...       2005-10-20   \n",
       "\n",
       "                 file_location file_location_date earliest_pgpub_number  \\\n",
       "0  FILE REPOSITORY (FRANCONIA)         2018-06-22       US20030074108A1   \n",
       "1  FILE REPOSITORY (FRANCONIA)         2018-06-23       US20020167722A1   \n",
       "2                   ELECTRONIC                NaN       US20040030858A1   \n",
       "3                   ELECTRONIC                NaN       US20030073097A1   \n",
       "4                   ELECTRONIC                NaN       US20020146371A1   \n",
       "\n",
       "  earliest_pgpub_date patent_number patent_issue_date aia_first_to_file  \n",
       "0          2003-04-17       6697710        2004-02-24             false  \n",
       "1          2002-11-14       6621627        2003-09-16             false  \n",
       "2          2004-02-12           NaN               NaN             false  \n",
       "3          2003-04-17           NaN               NaN             false  \n",
       "4          2002-10-10           NaN               NaN             false  "
      ]
     },
     "execution_count": 61,
     "metadata": {},
     "output_type": "execute_result"
    }
   ],
   "source": [
    "df_dimensions.head()"
   ]
  },
  {
   "cell_type": "code",
   "execution_count": 65,
   "metadata": {},
   "outputs": [],
   "source": [
    "# earliest_pgpub_number => publication number for dimensions\n",
    "df_dimensions= df_dimensions.loc[df_dimensions[\"earliest_pgpub_number\"].isna()==False,:]"
   ]
  },
  {
   "cell_type": "code",
   "execution_count": 66,
   "metadata": {},
   "outputs": [
    {
     "data": {
      "text/plain": [
       "(191953, 18)"
      ]
     },
     "execution_count": 66,
     "metadata": {},
     "output_type": "execute_result"
    }
   ],
   "source": [
    "### 191.953(1) different publication numbers ###\n",
    "df_dimensions.shape"
   ]
  },
  {
   "cell_type": "code",
   "execution_count": 68,
   "metadata": {},
   "outputs": [],
   "source": [
    "# csv upload\n",
    "df_dimensions[\"earliest_pgpub_number\"].to_csv(\"raw_data/publication_numbers.csv\", index=False)"
   ]
  }
 ],
 "metadata": {
  "kernelspec": {
   "display_name": "Python 3",
   "language": "python",
   "name": "python3"
  },
  "language_info": {
   "codemirror_mode": {
    "name": "ipython",
    "version": 3
   },
   "file_extension": ".py",
   "mimetype": "text/x-python",
   "name": "python",
   "nbconvert_exporter": "python",
   "pygments_lexer": "ipython3",
   "version": "3.8.6"
  }
 },
 "nbformat": 4,
 "nbformat_minor": 4
}
